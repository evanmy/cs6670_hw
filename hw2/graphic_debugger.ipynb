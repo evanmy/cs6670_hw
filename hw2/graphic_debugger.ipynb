{
 "cells": [
  {
   "cell_type": "code",
   "execution_count": 13,
   "metadata": {},
   "outputs": [],
   "source": [
    "import torch\n",
    "# summary = torch.load('../trained_model/autoencoder.pth.tar')\n",
    "summary = torch.load('../trained_model/dcgan.pth.tar')"
   ]
  },
  {
   "cell_type": "code",
   "execution_count": 18,
   "metadata": {},
   "outputs": [
    {
     "data": {
      "text/plain": [
       "dict_keys(['gnet', 'dnet', 'gopt', 'dopt'])"
      ]
     },
     "execution_count": 18,
     "metadata": {},
     "output_type": "execute_result"
    }
   ],
   "source": [
    "summary.keys()"
   ]
  },
  {
   "cell_type": "code",
   "execution_count": 19,
   "metadata": {},
   "outputs": [
    {
     "name": "stdout",
     "output_type": "stream",
     "text": [
      "conv1.weight\n",
      "torch.Size([64, 1, 4, 4])\n",
      "-\n",
      "conv2.weight\n",
      "torch.Size([128, 64, 4, 4])\n",
      "-\n",
      "bn2.weight\n",
      "torch.Size([128])\n",
      "-\n",
      "bn2.bias\n",
      "torch.Size([128])\n",
      "-\n",
      "bn2.running_mean\n",
      "torch.Size([128])\n",
      "-\n",
      "bn2.running_var\n",
      "torch.Size([128])\n",
      "-\n",
      "bn2.num_batches_tracked\n",
      "torch.Size([])\n",
      "-\n",
      "conv3.weight\n",
      "torch.Size([256, 128, 4, 4])\n",
      "-\n",
      "bn3.weight\n",
      "torch.Size([256])\n",
      "-\n",
      "bn3.bias\n",
      "torch.Size([256])\n",
      "-\n",
      "bn3.running_mean\n",
      "torch.Size([256])\n",
      "-\n",
      "bn3.running_var\n",
      "torch.Size([256])\n",
      "-\n",
      "bn3.num_batches_tracked\n",
      "torch.Size([])\n",
      "-\n",
      "conv4.weight\n",
      "torch.Size([1, 256, 4, 4])\n",
      "-\n"
     ]
    }
   ],
   "source": [
    "for mod in summary['dnet']:\n",
    "    print(mod)\n",
    "    print(summary['dnet'][mod].shape)\n",
    "    print('-')"
   ]
  },
  {
   "cell_type": "code",
   "execution_count": 9,
   "metadata": {},
   "outputs": [
    {
     "name": "stdout",
     "output_type": "stream",
     "text": [
      "conv1.weight\n",
      "torch.Size([64, 1, 4, 4])\n",
      "-\n",
      "conv2.weight\n",
      "torch.Size([128, 64, 4, 4])\n",
      "-\n",
      "bn2.weight\n",
      "torch.Size([128])\n",
      "-\n",
      "bn2.bias\n",
      "torch.Size([128])\n",
      "-\n",
      "bn2.running_mean\n",
      "torch.Size([128])\n",
      "-\n",
      "bn2.running_var\n",
      "torch.Size([128])\n",
      "-\n",
      "bn2.num_batches_tracked\n",
      "torch.Size([])\n",
      "-\n",
      "conv3.weight\n",
      "torch.Size([256, 128, 4, 4])\n",
      "-\n",
      "bn3.weight\n",
      "torch.Size([256])\n",
      "-\n",
      "bn3.bias\n",
      "torch.Size([256])\n",
      "-\n",
      "bn3.running_mean\n",
      "torch.Size([256])\n",
      "-\n",
      "bn3.running_var\n",
      "torch.Size([256])\n",
      "-\n",
      "bn3.num_batches_tracked\n",
      "torch.Size([])\n",
      "-\n",
      "conv4.weight\n",
      "torch.Size([512, 256, 4, 4])\n",
      "-\n",
      "bn4.weight\n",
      "torch.Size([512])\n",
      "-\n",
      "bn4.bias\n",
      "torch.Size([512])\n",
      "-\n",
      "bn4.running_mean\n",
      "torch.Size([512])\n",
      "-\n",
      "bn4.running_var\n",
      "torch.Size([512])\n",
      "-\n",
      "bn4.num_batches_tracked\n",
      "torch.Size([])\n",
      "-\n",
      "proj.weight\n",
      "torch.Size([100, 2048])\n",
      "-\n",
      "proj.bias\n",
      "torch.Size([100])\n",
      "-\n"
     ]
    }
   ],
   "source": [
    "for mod in summary['encoder']:\n",
    "    print(mod)\n",
    "    print(summary['encoder'][mod].shape)\n",
    "    print('-')\n",
    "    "
   ]
  },
  {
   "cell_type": "code",
   "execution_count": 11,
   "metadata": {},
   "outputs": [
    {
     "data": {
      "text/plain": [
       "dict_keys(['decoder', 'encoder', 'dec_opt', 'enc_opt'])"
      ]
     },
     "execution_count": 11,
     "metadata": {},
     "output_type": "execute_result"
    }
   ],
   "source": [
    "summary.keys()"
   ]
  },
  {
   "cell_type": "code",
   "execution_count": 10,
   "metadata": {},
   "outputs": [
    {
     "name": "stdout",
     "output_type": "stream",
     "text": [
      "proj.weight\n",
      "torch.Size([16384, 100])\n",
      "-\n",
      "proj.bias\n",
      "torch.Size([16384])\n",
      "-\n",
      "bn0.weight\n",
      "torch.Size([16384])\n",
      "-\n",
      "bn0.bias\n",
      "torch.Size([16384])\n",
      "-\n",
      "bn0.running_mean\n",
      "torch.Size([16384])\n",
      "-\n",
      "bn0.running_var\n",
      "torch.Size([16384])\n",
      "-\n",
      "bn0.num_batches_tracked\n",
      "torch.Size([])\n",
      "-\n",
      "dconv1.weight\n",
      "torch.Size([1024, 512, 4, 4])\n",
      "-\n",
      "bn1.weight\n",
      "torch.Size([512])\n",
      "-\n",
      "bn1.bias\n",
      "torch.Size([512])\n",
      "-\n",
      "bn1.running_mean\n",
      "torch.Size([512])\n",
      "-\n",
      "bn1.running_var\n",
      "torch.Size([512])\n",
      "-\n",
      "bn1.num_batches_tracked\n",
      "torch.Size([])\n",
      "-\n",
      "dconv2.weight\n",
      "torch.Size([512, 256, 4, 4])\n",
      "-\n",
      "bn2.weight\n",
      "torch.Size([256])\n",
      "-\n",
      "bn2.bias\n",
      "torch.Size([256])\n",
      "-\n",
      "bn2.running_mean\n",
      "torch.Size([256])\n",
      "-\n",
      "bn2.running_var\n",
      "torch.Size([256])\n",
      "-\n",
      "bn2.num_batches_tracked\n",
      "torch.Size([])\n",
      "-\n",
      "dconv3.weight\n",
      "torch.Size([256, 1, 4, 4])\n",
      "-\n"
     ]
    }
   ],
   "source": [
    "for mod in summary['decoder']:\n",
    "    print(mod)\n",
    "    print(summary['decoder'][mod].shape)\n",
    "    print('-')"
   ]
  },
  {
   "cell_type": "code",
   "execution_count": null,
   "metadata": {},
   "outputs": [],
   "source": [
    "import torch.nn as nn\n",
    "\n",
    "class Encoder(nn.Module):\n",
    "\n",
    "    def __init__(self, args):\n",
    "        super(Encoder, self).__init__()\n",
    "        self.relu = nn.ReLU()\n",
    "        self.conv = nn.Conv2d(args.nc, args.nef, \n",
    "                              kernel_size= args.e_ksize, stride=2, padding=1, \n",
    "                              bias=False)\n",
    "        \n",
    "        self.conv1 = nn.Conv2d(args.nef, args.nef*2, \n",
    "                               kernel_size= args.e_ksize, stride=2, padding=1, \n",
    "                               bias=False)        \n",
    "        self.bn1 = nn.BatchNorm2d(args.nef*2)        \n",
    "        \n",
    "        self.conv1 = nn.Conv2d(args.nef*2, args.nef*4, \n",
    "                               kernel_size= args.e_ksize, stride=2, padding=1, \n",
    "                               bias=False)   \n",
    "        self.bn2 = nn.BatchNorm2d(args.nef*4) \n",
    "        \n",
    "        self.conv3 = nn.Conv2d(args.nef*4, args.nef*8, \n",
    "                               kernel_size= args.e_ksize, stride=2, padding=1, \n",
    "                               bias=False)   \n",
    "        self.bn3 = nn.BatchNorm2d(args.nef*8)\n",
    "        \n",
    "        self.fc = nn.Linear(args.nef*8, args.nz)\n",
    "\n",
    "    def forward(self, x):\n",
    "        \n",
    "        x = self.relu(self.conv(x))\n",
    "        x = self.bn1(self.conv1(x))\n",
    "        x = self.relu(x)\n",
    "        \n",
    "        x = self.bn2(self.conv2(x))\n",
    "        x = self.relu(x)\n",
    "        \n",
    "        x = self.bn3(self.conv3(x))\n",
    "        x = self.relu(x)\n",
    "        \n",
    "        x = x.view(x.size(0),-1)\n",
    "        x = self.fc(x)\n",
    "        \n",
    "        return x"
   ]
  },
  {
   "cell_type": "code",
   "execution_count": null,
   "metadata": {},
   "outputs": [],
   "source": []
  },
  {
   "cell_type": "code",
   "execution_count": null,
   "metadata": {},
   "outputs": [],
   "source": [
    "import utils \n",
    "args = utils.get_args()\n",
    "\n",
    "encoder = Encoder(args)\n",
    "encoder.load_state_dic(summary['encoder'])"
   ]
  }
 ],
 "metadata": {
  "kernelspec": {
   "display_name": "Python 3",
   "language": "python",
   "name": "python3"
  },
  "language_info": {
   "codemirror_mode": {
    "name": "ipython",
    "version": 3
   },
   "file_extension": ".py",
   "mimetype": "text/x-python",
   "name": "python",
   "nbconvert_exporter": "python",
   "pygments_lexer": "ipython3",
   "version": "3.6.5"
  }
 },
 "nbformat": 4,
 "nbformat_minor": 2
}
